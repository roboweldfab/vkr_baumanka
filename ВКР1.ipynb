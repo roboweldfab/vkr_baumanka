{
  "cells": [
    {
      "cell_type": "markdown",
      "id": "286ce2a6",
      "metadata": {
        "id": "286ce2a6"
      },
      "source": [
        "# Импортируем фреймы"
      ]
    },
    {
      "cell_type": "code",
      "source": [
        "from google.colab import drive\n",
        "drive.mount('/content/drive')"
      ],
      "metadata": {
        "colab": {
          "base_uri": "https://localhost:8080/"
        },
        "id": "_Ktqt30eispr",
        "outputId": "94092734-bf52-4384-e26a-c58059834377"
      },
      "id": "_Ktqt30eispr",
      "execution_count": 1,
      "outputs": [
        {
          "output_type": "stream",
          "name": "stdout",
          "text": [
            "Drive already mounted at /content/drive; to attempt to forcibly remount, call drive.mount(\"/content/drive\", force_remount=True).\n"
          ]
        }
      ]
    },
    {
      "cell_type": "code",
      "execution_count": 2,
      "id": "7f42cf84",
      "metadata": {
        "colab": {
          "base_uri": "https://localhost:8080/"
        },
        "id": "7f42cf84",
        "outputId": "fc87de3b-e1bc-4212-9477-ccb75d838d9c"
      },
      "outputs": [
        {
          "output_type": "stream",
          "name": "stdout",
          "text": [
            "2.9.2\n"
          ]
        }
      ],
      "source": [
        "import pandas as pd\n",
        "import numpy as np\n",
        "import copy\n",
        "import seaborn as sns\n",
        "import matplotlib.pyplot as plt\n",
        "from scipy import stats\n",
        "from sklearn import preprocessing\n",
        "from sklearn.model_selection import train_test_split\n",
        "from sklearn.metrics import mean_squared_error, r2_score\n",
        "from sklearn.preprocessing import MinMaxScaler\n",
        "from sklearn.neighbors import KNeighborsRegressor\n",
        "from sklearn.linear_model import LinearRegression, LogisticRegression\n",
        "from sklearn.ensemble import RandomForestRegressor\n",
        "from sklearn.metrics import r2_score\n",
        "from sklearn.preprocessing import LabelEncoder\n",
        "from sklearn.neural_network import MLPRegressor\n",
        "import tensorflow as tf\n",
        "from tensorflow import keras\n",
        "from tensorflow.keras import layers\n",
        "from sklearn.model_selection import GridSearchCV\n",
        "from sklearn.linear_model import Ridge\n",
        "from sklearn.linear_model import Lasso\n",
        "from sklearn import metrics\n",
        "from sklearn.metrics import mean_absolute_error\n",
        "print(tf.__version__)\n",
        "\n"
      ]
    },
    {
      "cell_type": "markdown",
      "source": [
        "## Загружаем и анализируем данные"
      ],
      "metadata": {
        "id": "gpaqTlNTsGrf"
      },
      "id": "gpaqTlNTsGrf"
    },
    {
      "cell_type": "code",
      "execution_count": 3,
      "id": "dffd2e0f",
      "metadata": {
        "id": "dffd2e0f"
      },
      "outputs": [],
      "source": [
        "\n",
        "df = pd.read_csv('/content/drive/MyDrive/df/ebw_data.csv')\n"
      ]
    },
    {
      "cell_type": "code",
      "execution_count": 4,
      "id": "0d9077a2",
      "metadata": {
        "colab": {
          "base_uri": "https://localhost:8080/",
          "height": 423
        },
        "id": "0d9077a2",
        "outputId": "25f3c875-a1fa-42e5-ec04-bbc7d3aa38f2"
      },
      "outputs": [
        {
          "output_type": "execute_result",
          "data": {
            "text/plain": [
              "    IW   IF   VW  FP  Depth  Width\n",
              "0   47  139  4.5  80   1.60   2.54\n",
              "1   47  139  4.5  80   1.62   2.50\n",
              "2   47  139  4.5  80   1.68   2.60\n",
              "3   47  139  4.5  80   1.58   2.52\n",
              "4   45  140  4.5  80   1.76   2.48\n",
              "..  ..  ...  ...  ..    ...    ...\n",
              "67  44  146  9.0  60   1.20   1.72\n",
              "68  45  146  9.0  60   1.36   1.76\n",
              "69  45  146  9.0  60   1.28   1.76\n",
              "70  45  146  9.0  60   1.28   1.76\n",
              "71  45  146  9.0  60   1.32   1.76\n",
              "\n",
              "[72 rows x 6 columns]"
            ],
            "text/html": [
              "\n",
              "  <div id=\"df-54f8e1bd-e0cb-4448-a50e-1c65d12329ea\">\n",
              "    <div class=\"colab-df-container\">\n",
              "      <div>\n",
              "<style scoped>\n",
              "    .dataframe tbody tr th:only-of-type {\n",
              "        vertical-align: middle;\n",
              "    }\n",
              "\n",
              "    .dataframe tbody tr th {\n",
              "        vertical-align: top;\n",
              "    }\n",
              "\n",
              "    .dataframe thead th {\n",
              "        text-align: right;\n",
              "    }\n",
              "</style>\n",
              "<table border=\"1\" class=\"dataframe\">\n",
              "  <thead>\n",
              "    <tr style=\"text-align: right;\">\n",
              "      <th></th>\n",
              "      <th>IW</th>\n",
              "      <th>IF</th>\n",
              "      <th>VW</th>\n",
              "      <th>FP</th>\n",
              "      <th>Depth</th>\n",
              "      <th>Width</th>\n",
              "    </tr>\n",
              "  </thead>\n",
              "  <tbody>\n",
              "    <tr>\n",
              "      <th>0</th>\n",
              "      <td>47</td>\n",
              "      <td>139</td>\n",
              "      <td>4.5</td>\n",
              "      <td>80</td>\n",
              "      <td>1.60</td>\n",
              "      <td>2.54</td>\n",
              "    </tr>\n",
              "    <tr>\n",
              "      <th>1</th>\n",
              "      <td>47</td>\n",
              "      <td>139</td>\n",
              "      <td>4.5</td>\n",
              "      <td>80</td>\n",
              "      <td>1.62</td>\n",
              "      <td>2.50</td>\n",
              "    </tr>\n",
              "    <tr>\n",
              "      <th>2</th>\n",
              "      <td>47</td>\n",
              "      <td>139</td>\n",
              "      <td>4.5</td>\n",
              "      <td>80</td>\n",
              "      <td>1.68</td>\n",
              "      <td>2.60</td>\n",
              "    </tr>\n",
              "    <tr>\n",
              "      <th>3</th>\n",
              "      <td>47</td>\n",
              "      <td>139</td>\n",
              "      <td>4.5</td>\n",
              "      <td>80</td>\n",
              "      <td>1.58</td>\n",
              "      <td>2.52</td>\n",
              "    </tr>\n",
              "    <tr>\n",
              "      <th>4</th>\n",
              "      <td>45</td>\n",
              "      <td>140</td>\n",
              "      <td>4.5</td>\n",
              "      <td>80</td>\n",
              "      <td>1.76</td>\n",
              "      <td>2.48</td>\n",
              "    </tr>\n",
              "    <tr>\n",
              "      <th>...</th>\n",
              "      <td>...</td>\n",
              "      <td>...</td>\n",
              "      <td>...</td>\n",
              "      <td>...</td>\n",
              "      <td>...</td>\n",
              "      <td>...</td>\n",
              "    </tr>\n",
              "    <tr>\n",
              "      <th>67</th>\n",
              "      <td>44</td>\n",
              "      <td>146</td>\n",
              "      <td>9.0</td>\n",
              "      <td>60</td>\n",
              "      <td>1.20</td>\n",
              "      <td>1.72</td>\n",
              "    </tr>\n",
              "    <tr>\n",
              "      <th>68</th>\n",
              "      <td>45</td>\n",
              "      <td>146</td>\n",
              "      <td>9.0</td>\n",
              "      <td>60</td>\n",
              "      <td>1.36</td>\n",
              "      <td>1.76</td>\n",
              "    </tr>\n",
              "    <tr>\n",
              "      <th>69</th>\n",
              "      <td>45</td>\n",
              "      <td>146</td>\n",
              "      <td>9.0</td>\n",
              "      <td>60</td>\n",
              "      <td>1.28</td>\n",
              "      <td>1.76</td>\n",
              "    </tr>\n",
              "    <tr>\n",
              "      <th>70</th>\n",
              "      <td>45</td>\n",
              "      <td>146</td>\n",
              "      <td>9.0</td>\n",
              "      <td>60</td>\n",
              "      <td>1.28</td>\n",
              "      <td>1.76</td>\n",
              "    </tr>\n",
              "    <tr>\n",
              "      <th>71</th>\n",
              "      <td>45</td>\n",
              "      <td>146</td>\n",
              "      <td>9.0</td>\n",
              "      <td>60</td>\n",
              "      <td>1.32</td>\n",
              "      <td>1.76</td>\n",
              "    </tr>\n",
              "  </tbody>\n",
              "</table>\n",
              "<p>72 rows × 6 columns</p>\n",
              "</div>\n",
              "      <button class=\"colab-df-convert\" onclick=\"convertToInteractive('df-54f8e1bd-e0cb-4448-a50e-1c65d12329ea')\"\n",
              "              title=\"Convert this dataframe to an interactive table.\"\n",
              "              style=\"display:none;\">\n",
              "        \n",
              "  <svg xmlns=\"http://www.w3.org/2000/svg\" height=\"24px\"viewBox=\"0 0 24 24\"\n",
              "       width=\"24px\">\n",
              "    <path d=\"M0 0h24v24H0V0z\" fill=\"none\"/>\n",
              "    <path d=\"M18.56 5.44l.94 2.06.94-2.06 2.06-.94-2.06-.94-.94-2.06-.94 2.06-2.06.94zm-11 1L8.5 8.5l.94-2.06 2.06-.94-2.06-.94L8.5 2.5l-.94 2.06-2.06.94zm10 10l.94 2.06.94-2.06 2.06-.94-2.06-.94-.94-2.06-.94 2.06-2.06.94z\"/><path d=\"M17.41 7.96l-1.37-1.37c-.4-.4-.92-.59-1.43-.59-.52 0-1.04.2-1.43.59L10.3 9.45l-7.72 7.72c-.78.78-.78 2.05 0 2.83L4 21.41c.39.39.9.59 1.41.59.51 0 1.02-.2 1.41-.59l7.78-7.78 2.81-2.81c.8-.78.8-2.07 0-2.86zM5.41 20L4 18.59l7.72-7.72 1.47 1.35L5.41 20z\"/>\n",
              "  </svg>\n",
              "      </button>\n",
              "      \n",
              "  <style>\n",
              "    .colab-df-container {\n",
              "      display:flex;\n",
              "      flex-wrap:wrap;\n",
              "      gap: 12px;\n",
              "    }\n",
              "\n",
              "    .colab-df-convert {\n",
              "      background-color: #E8F0FE;\n",
              "      border: none;\n",
              "      border-radius: 50%;\n",
              "      cursor: pointer;\n",
              "      display: none;\n",
              "      fill: #1967D2;\n",
              "      height: 32px;\n",
              "      padding: 0 0 0 0;\n",
              "      width: 32px;\n",
              "    }\n",
              "\n",
              "    .colab-df-convert:hover {\n",
              "      background-color: #E2EBFA;\n",
              "      box-shadow: 0px 1px 2px rgba(60, 64, 67, 0.3), 0px 1px 3px 1px rgba(60, 64, 67, 0.15);\n",
              "      fill: #174EA6;\n",
              "    }\n",
              "\n",
              "    [theme=dark] .colab-df-convert {\n",
              "      background-color: #3B4455;\n",
              "      fill: #D2E3FC;\n",
              "    }\n",
              "\n",
              "    [theme=dark] .colab-df-convert:hover {\n",
              "      background-color: #434B5C;\n",
              "      box-shadow: 0px 1px 3px 1px rgba(0, 0, 0, 0.15);\n",
              "      filter: drop-shadow(0px 1px 2px rgba(0, 0, 0, 0.3));\n",
              "      fill: #FFFFFF;\n",
              "    }\n",
              "  </style>\n",
              "\n",
              "      <script>\n",
              "        const buttonEl =\n",
              "          document.querySelector('#df-54f8e1bd-e0cb-4448-a50e-1c65d12329ea button.colab-df-convert');\n",
              "        buttonEl.style.display =\n",
              "          google.colab.kernel.accessAllowed ? 'block' : 'none';\n",
              "\n",
              "        async function convertToInteractive(key) {\n",
              "          const element = document.querySelector('#df-54f8e1bd-e0cb-4448-a50e-1c65d12329ea');\n",
              "          const dataTable =\n",
              "            await google.colab.kernel.invokeFunction('convertToInteractive',\n",
              "                                                     [key], {});\n",
              "          if (!dataTable) return;\n",
              "\n",
              "          const docLinkHtml = 'Like what you see? Visit the ' +\n",
              "            '<a target=\"_blank\" href=https://colab.research.google.com/notebooks/data_table.ipynb>data table notebook</a>'\n",
              "            + ' to learn more about interactive tables.';\n",
              "          element.innerHTML = '';\n",
              "          dataTable['output_type'] = 'display_data';\n",
              "          await google.colab.output.renderOutput(dataTable, element);\n",
              "          const docLink = document.createElement('div');\n",
              "          docLink.innerHTML = docLinkHtml;\n",
              "          element.appendChild(docLink);\n",
              "        }\n",
              "      </script>\n",
              "    </div>\n",
              "  </div>\n",
              "  "
            ]
          },
          "metadata": {},
          "execution_count": 4
        }
      ],
      "source": [
        "df"
      ]
    },
    {
      "cell_type": "code",
      "execution_count": 5,
      "id": "5e6dd150",
      "metadata": {
        "colab": {
          "base_uri": "https://localhost:8080/"
        },
        "id": "5e6dd150",
        "outputId": "0b5945f1-06a4-42df-8d4f-83e0418dcb7a"
      },
      "outputs": [
        {
          "output_type": "stream",
          "name": "stdout",
          "text": [
            "<class 'pandas.core.frame.DataFrame'>\n",
            "RangeIndex: 72 entries, 0 to 71\n",
            "Data columns (total 6 columns):\n",
            " #   Column  Non-Null Count  Dtype  \n",
            "---  ------  --------------  -----  \n",
            " 0   IW      72 non-null     int64  \n",
            " 1   IF      72 non-null     int64  \n",
            " 2   VW      72 non-null     float64\n",
            " 3   FP      72 non-null     int64  \n",
            " 4   Depth   72 non-null     float64\n",
            " 5   Width   72 non-null     float64\n",
            "dtypes: float64(3), int64(3)\n",
            "memory usage: 3.5 KB\n"
          ]
        }
      ],
      "source": [
        "df.info()\n"
      ]
    },
    {
      "cell_type": "code",
      "execution_count": 6,
      "id": "d6b7b5fe",
      "metadata": {
        "colab": {
          "base_uri": "https://localhost:8080/",
          "height": 300
        },
        "id": "d6b7b5fe",
        "outputId": "02fb8a47-228e-4187-aaf6-27bd405126d5"
      },
      "outputs": [
        {
          "output_type": "execute_result",
          "data": {
            "text/plain": [
              "              IW          IF         VW          FP      Depth      Width\n",
              "count  72.000000   72.000000  72.000000   72.000000  72.000000  72.000000\n",
              "mean   45.666667  141.333333   8.638889   78.333333   1.195556   1.970417\n",
              "std     1.678363    5.145763   2.061078   21.493530   0.225081   0.279040\n",
              "min    43.000000  131.000000   4.500000   50.000000   0.800000   1.680000\n",
              "25%    44.000000  139.000000   8.000000   60.000000   1.080000   1.760000\n",
              "50%    45.500000  141.000000   9.000000   80.000000   1.200000   1.840000\n",
              "75%    47.000000  146.000000  10.000000   80.000000   1.290000   2.050000\n",
              "max    49.000000  150.000000  12.000000  125.000000   1.760000   2.600000"
            ],
            "text/html": [
              "\n",
              "  <div id=\"df-dafb1525-a680-4078-9e78-d32fec10d20e\">\n",
              "    <div class=\"colab-df-container\">\n",
              "      <div>\n",
              "<style scoped>\n",
              "    .dataframe tbody tr th:only-of-type {\n",
              "        vertical-align: middle;\n",
              "    }\n",
              "\n",
              "    .dataframe tbody tr th {\n",
              "        vertical-align: top;\n",
              "    }\n",
              "\n",
              "    .dataframe thead th {\n",
              "        text-align: right;\n",
              "    }\n",
              "</style>\n",
              "<table border=\"1\" class=\"dataframe\">\n",
              "  <thead>\n",
              "    <tr style=\"text-align: right;\">\n",
              "      <th></th>\n",
              "      <th>IW</th>\n",
              "      <th>IF</th>\n",
              "      <th>VW</th>\n",
              "      <th>FP</th>\n",
              "      <th>Depth</th>\n",
              "      <th>Width</th>\n",
              "    </tr>\n",
              "  </thead>\n",
              "  <tbody>\n",
              "    <tr>\n",
              "      <th>count</th>\n",
              "      <td>72.000000</td>\n",
              "      <td>72.000000</td>\n",
              "      <td>72.000000</td>\n",
              "      <td>72.000000</td>\n",
              "      <td>72.000000</td>\n",
              "      <td>72.000000</td>\n",
              "    </tr>\n",
              "    <tr>\n",
              "      <th>mean</th>\n",
              "      <td>45.666667</td>\n",
              "      <td>141.333333</td>\n",
              "      <td>8.638889</td>\n",
              "      <td>78.333333</td>\n",
              "      <td>1.195556</td>\n",
              "      <td>1.970417</td>\n",
              "    </tr>\n",
              "    <tr>\n",
              "      <th>std</th>\n",
              "      <td>1.678363</td>\n",
              "      <td>5.145763</td>\n",
              "      <td>2.061078</td>\n",
              "      <td>21.493530</td>\n",
              "      <td>0.225081</td>\n",
              "      <td>0.279040</td>\n",
              "    </tr>\n",
              "    <tr>\n",
              "      <th>min</th>\n",
              "      <td>43.000000</td>\n",
              "      <td>131.000000</td>\n",
              "      <td>4.500000</td>\n",
              "      <td>50.000000</td>\n",
              "      <td>0.800000</td>\n",
              "      <td>1.680000</td>\n",
              "    </tr>\n",
              "    <tr>\n",
              "      <th>25%</th>\n",
              "      <td>44.000000</td>\n",
              "      <td>139.000000</td>\n",
              "      <td>8.000000</td>\n",
              "      <td>60.000000</td>\n",
              "      <td>1.080000</td>\n",
              "      <td>1.760000</td>\n",
              "    </tr>\n",
              "    <tr>\n",
              "      <th>50%</th>\n",
              "      <td>45.500000</td>\n",
              "      <td>141.000000</td>\n",
              "      <td>9.000000</td>\n",
              "      <td>80.000000</td>\n",
              "      <td>1.200000</td>\n",
              "      <td>1.840000</td>\n",
              "    </tr>\n",
              "    <tr>\n",
              "      <th>75%</th>\n",
              "      <td>47.000000</td>\n",
              "      <td>146.000000</td>\n",
              "      <td>10.000000</td>\n",
              "      <td>80.000000</td>\n",
              "      <td>1.290000</td>\n",
              "      <td>2.050000</td>\n",
              "    </tr>\n",
              "    <tr>\n",
              "      <th>max</th>\n",
              "      <td>49.000000</td>\n",
              "      <td>150.000000</td>\n",
              "      <td>12.000000</td>\n",
              "      <td>125.000000</td>\n",
              "      <td>1.760000</td>\n",
              "      <td>2.600000</td>\n",
              "    </tr>\n",
              "  </tbody>\n",
              "</table>\n",
              "</div>\n",
              "      <button class=\"colab-df-convert\" onclick=\"convertToInteractive('df-dafb1525-a680-4078-9e78-d32fec10d20e')\"\n",
              "              title=\"Convert this dataframe to an interactive table.\"\n",
              "              style=\"display:none;\">\n",
              "        \n",
              "  <svg xmlns=\"http://www.w3.org/2000/svg\" height=\"24px\"viewBox=\"0 0 24 24\"\n",
              "       width=\"24px\">\n",
              "    <path d=\"M0 0h24v24H0V0z\" fill=\"none\"/>\n",
              "    <path d=\"M18.56 5.44l.94 2.06.94-2.06 2.06-.94-2.06-.94-.94-2.06-.94 2.06-2.06.94zm-11 1L8.5 8.5l.94-2.06 2.06-.94-2.06-.94L8.5 2.5l-.94 2.06-2.06.94zm10 10l.94 2.06.94-2.06 2.06-.94-2.06-.94-.94-2.06-.94 2.06-2.06.94z\"/><path d=\"M17.41 7.96l-1.37-1.37c-.4-.4-.92-.59-1.43-.59-.52 0-1.04.2-1.43.59L10.3 9.45l-7.72 7.72c-.78.78-.78 2.05 0 2.83L4 21.41c.39.39.9.59 1.41.59.51 0 1.02-.2 1.41-.59l7.78-7.78 2.81-2.81c.8-.78.8-2.07 0-2.86zM5.41 20L4 18.59l7.72-7.72 1.47 1.35L5.41 20z\"/>\n",
              "  </svg>\n",
              "      </button>\n",
              "      \n",
              "  <style>\n",
              "    .colab-df-container {\n",
              "      display:flex;\n",
              "      flex-wrap:wrap;\n",
              "      gap: 12px;\n",
              "    }\n",
              "\n",
              "    .colab-df-convert {\n",
              "      background-color: #E8F0FE;\n",
              "      border: none;\n",
              "      border-radius: 50%;\n",
              "      cursor: pointer;\n",
              "      display: none;\n",
              "      fill: #1967D2;\n",
              "      height: 32px;\n",
              "      padding: 0 0 0 0;\n",
              "      width: 32px;\n",
              "    }\n",
              "\n",
              "    .colab-df-convert:hover {\n",
              "      background-color: #E2EBFA;\n",
              "      box-shadow: 0px 1px 2px rgba(60, 64, 67, 0.3), 0px 1px 3px 1px rgba(60, 64, 67, 0.15);\n",
              "      fill: #174EA6;\n",
              "    }\n",
              "\n",
              "    [theme=dark] .colab-df-convert {\n",
              "      background-color: #3B4455;\n",
              "      fill: #D2E3FC;\n",
              "    }\n",
              "\n",
              "    [theme=dark] .colab-df-convert:hover {\n",
              "      background-color: #434B5C;\n",
              "      box-shadow: 0px 1px 3px 1px rgba(0, 0, 0, 0.15);\n",
              "      filter: drop-shadow(0px 1px 2px rgba(0, 0, 0, 0.3));\n",
              "      fill: #FFFFFF;\n",
              "    }\n",
              "  </style>\n",
              "\n",
              "      <script>\n",
              "        const buttonEl =\n",
              "          document.querySelector('#df-dafb1525-a680-4078-9e78-d32fec10d20e button.colab-df-convert');\n",
              "        buttonEl.style.display =\n",
              "          google.colab.kernel.accessAllowed ? 'block' : 'none';\n",
              "\n",
              "        async function convertToInteractive(key) {\n",
              "          const element = document.querySelector('#df-dafb1525-a680-4078-9e78-d32fec10d20e');\n",
              "          const dataTable =\n",
              "            await google.colab.kernel.invokeFunction('convertToInteractive',\n",
              "                                                     [key], {});\n",
              "          if (!dataTable) return;\n",
              "\n",
              "          const docLinkHtml = 'Like what you see? Visit the ' +\n",
              "            '<a target=\"_blank\" href=https://colab.research.google.com/notebooks/data_table.ipynb>data table notebook</a>'\n",
              "            + ' to learn more about interactive tables.';\n",
              "          element.innerHTML = '';\n",
              "          dataTable['output_type'] = 'display_data';\n",
              "          await google.colab.output.renderOutput(dataTable, element);\n",
              "          const docLink = document.createElement('div');\n",
              "          docLink.innerHTML = docLinkHtml;\n",
              "          element.appendChild(docLink);\n",
              "        }\n",
              "      </script>\n",
              "    </div>\n",
              "  </div>\n",
              "  "
            ]
          },
          "metadata": {},
          "execution_count": 6
        }
      ],
      "source": [
        "df.describe()"
      ]
    },
    {
      "cell_type": "code",
      "execution_count": 7,
      "id": "adad1c19",
      "metadata": {
        "colab": {
          "base_uri": "https://localhost:8080/"
        },
        "id": "adad1c19",
        "outputId": "f9ee1286-4b44-41a4-d77b-957feebd3ce1"
      },
      "outputs": [
        {
          "output_type": "execute_result",
          "data": {
            "text/plain": [
              "IW       0\n",
              "IF       0\n",
              "VW       0\n",
              "FP       0\n",
              "Depth    0\n",
              "Width    0\n",
              "dtype: int64"
            ]
          },
          "metadata": {},
          "execution_count": 7
        }
      ],
      "source": [
        "df.nunique()\n",
        "df.duplicated().sum()\n",
        "df.isna()\n",
        "df.isna().sum()\n"
      ]
    },
    {
      "cell_type": "markdown",
      "source": [
        "Данные достаточно чистые."
      ],
      "metadata": {
        "id": "eCl2MkI5sfzp"
      },
      "id": "eCl2MkI5sfzp"
    },
    {
      "cell_type": "code",
      "execution_count": 8,
      "id": "cfaae18f",
      "metadata": {
        "colab": {
          "base_uri": "https://localhost:8080/",
          "height": 1000
        },
        "id": "cfaae18f",
        "outputId": "f0e2a118-b20f-4cbe-e0f8-338b9a73087b"
      },
      "outputs": [
        {
          "output_type": "display_data",
          "data": {
            "text/plain": [
              "<Figure size 1728x1728 with 42 Axes>"
            ],
            "image/png": "[encoded data removed]"
          },
          "metadata": {
            "needs_background": "light"
          }
        }
      ],
      "source": [
        "sns.pairplot(df, height=4, diag_kind='kde');"
      ]
    },
    {
      "cell_type": "markdown",
      "source": [
        "Данных слишком мало, явная зависимость видна между шириной и глубиной шва, что логично ведь шов имеет форму конуса. Посмотрим на корреляции:"
      ],
      "metadata": {
        "id": "Mtj-4iI1sp64"
      },
      "id": "Mtj-4iI1sp64"
    },
    {
      "cell_type": "code",
      "execution_count": 9,
      "id": "4f0d406e",
      "metadata": {
        "colab": {
          "base_uri": "https://localhost:8080/",
          "height": 592
        },
        "id": "4f0d406e",
        "outputId": "10e1a97b-6c0a-4c9d-aefb-e767d2853a43"
      },
      "outputs": [
        {
          "output_type": "display_data",
          "data": {
            "text/plain": [
              "<Figure size 1008x720 with 2 Axes>"
            ],
            "image/png": "[encoded data removed]"
          },
          "metadata": {
            "needs_background": "light"
          }
        }
      ],
      "source": [
        "cor_map = df.corr()\n",
        "fig, ax = plt.subplots(figsize=(14, 10))\n",
        "sns.heatmap(cor_map, vmin=-0.5, vmax=0.5, annot=True,\n",
        "fmt='.2f',cmap='PRGn', ax=ax, linewidths = 0.1)\n",
        "plt.show()\n"
      ]
    },
    {
      "cell_type": "markdown",
      "source": [
        "Посмотрим нужна ли нормализация:"
      ],
      "metadata": {
        "id": "w5V27uratIFQ"
      },
      "id": "w5V27uratIFQ"
    },
    {
      "cell_type": "code",
      "execution_count": 10,
      "id": "123ccd9b",
      "metadata": {
        "colab": {
          "base_uri": "https://localhost:8080/",
          "height": 718
        },
        "id": "123ccd9b",
        "outputId": "0915cca1-54d7-47c2-c4be-06da6d0e665c"
      },
      "outputs": [
        {
          "output_type": "execute_result",
          "data": {
            "text/plain": [
              "<matplotlib.axes._subplots.AxesSubplot at 0x7f0154332990>"
            ]
          },
          "metadata": {},
          "execution_count": 10
        },
        {
          "output_type": "display_data",
          "data": {
            "text/plain": [
              "<Figure size 1080x864 with 1 Axes>"
            ],
            "image/png": "[encoded data removed]"
          },
          "metadata": {
            "needs_background": "light"
          }
        }
      ],
      "source": [
        "fig, ax = plt.subplots(figsize=(15, 12))\n",
        "df.plot(kind='kde', ax=ax)"
      ]
    },
    {
      "cell_type": "markdown",
      "source": [
        "Нормализуем данные"
      ],
      "metadata": {
        "id": "6RxbO0gFtY3Q"
      },
      "id": "6RxbO0gFtY3Q"
    },
    {
      "cell_type": "code",
      "execution_count": 11,
      "id": "ba7c10a4",
      "metadata": {
        "colab": {
          "base_uri": "https://localhost:8080/",
          "height": 206
        },
        "id": "ba7c10a4",
        "outputId": "a6240f0a-946f-47b6-f5b9-ea4eefad5e0b"
      },
      "outputs": [
        {
          "output_type": "execute_result",
          "data": {
            "text/plain": [
              "     IW    IF   VW   FP  Depth  Width\n",
              "0  0.67  0.42  0.0  0.4   0.83   0.93\n",
              "1  0.67  0.42  0.0  0.4   0.85   0.89\n",
              "2  0.67  0.42  0.0  0.4   0.92   1.00\n",
              "3  0.67  0.42  0.0  0.4   0.81   0.91\n",
              "4  0.33  0.47  0.0  0.4   1.00   0.87"
            ],
            "text/html": [
              "\n",
              "  <div id=\"df-f68dafcd-8e21-41de-bdee-ebd0ac950ca9\">\n",
              "    <div class=\"colab-df-container\">\n",
              "      <div>\n",
              "<style scoped>\n",
              "    .dataframe tbody tr th:only-of-type {\n",
              "        vertical-align: middle;\n",
              "    }\n",
              "\n",
              "    .dataframe tbody tr th {\n",
              "        vertical-align: top;\n",
              "    }\n",
              "\n",
              "    .dataframe thead th {\n",
              "        text-align: right;\n",
              "    }\n",
              "</style>\n",
              "<table border=\"1\" class=\"dataframe\">\n",
              "  <thead>\n",
              "    <tr style=\"text-align: right;\">\n",
              "      <th></th>\n",
              "      <th>IW</th>\n",
              "      <th>IF</th>\n",
              "      <th>VW</th>\n",
              "      <th>FP</th>\n",
              "      <th>Depth</th>\n",
              "      <th>Width</th>\n",
              "    </tr>\n",
              "  </thead>\n",
              "  <tbody>\n",
              "    <tr>\n",
              "      <th>0</th>\n",
              "      <td>0.67</td>\n",
              "      <td>0.42</td>\n",
              "      <td>0.0</td>\n",
              "      <td>0.4</td>\n",
              "      <td>0.83</td>\n",
              "      <td>0.93</td>\n",
              "    </tr>\n",
              "    <tr>\n",
              "      <th>1</th>\n",
              "      <td>0.67</td>\n",
              "      <td>0.42</td>\n",
              "      <td>0.0</td>\n",
              "      <td>0.4</td>\n",
              "      <td>0.85</td>\n",
              "      <td>0.89</td>\n",
              "    </tr>\n",
              "    <tr>\n",
              "      <th>2</th>\n",
              "      <td>0.67</td>\n",
              "      <td>0.42</td>\n",
              "      <td>0.0</td>\n",
              "      <td>0.4</td>\n",
              "      <td>0.92</td>\n",
              "      <td>1.00</td>\n",
              "    </tr>\n",
              "    <tr>\n",
              "      <th>3</th>\n",
              "      <td>0.67</td>\n",
              "      <td>0.42</td>\n",
              "      <td>0.0</td>\n",
              "      <td>0.4</td>\n",
              "      <td>0.81</td>\n",
              "      <td>0.91</td>\n",
              "    </tr>\n",
              "    <tr>\n",
              "      <th>4</th>\n",
              "      <td>0.33</td>\n",
              "      <td>0.47</td>\n",
              "      <td>0.0</td>\n",
              "      <td>0.4</td>\n",
              "      <td>1.00</td>\n",
              "      <td>0.87</td>\n",
              "    </tr>\n",
              "  </tbody>\n",
              "</table>\n",
              "</div>\n",
              "      <button class=\"colab-df-convert\" onclick=\"convertToInteractive('df-f68dafcd-8e21-41de-bdee-ebd0ac950ca9')\"\n",
              "              title=\"Convert this dataframe to an interactive table.\"\n",
              "              style=\"display:none;\">\n",
              "        \n",
              "  <svg xmlns=\"http://www.w3.org/2000/svg\" height=\"24px\"viewBox=\"0 0 24 24\"\n",
              "       width=\"24px\">\n",
              "    <path d=\"M0 0h24v24H0V0z\" fill=\"none\"/>\n",
              "    <path d=\"M18.56 5.44l.94 2.06.94-2.06 2.06-.94-2.06-.94-.94-2.06-.94 2.06-2.06.94zm-11 1L8.5 8.5l.94-2.06 2.06-.94-2.06-.94L8.5 2.5l-.94 2.06-2.06.94zm10 10l.94 2.06.94-2.06 2.06-.94-2.06-.94-.94-2.06-.94 2.06-2.06.94z\"/><path d=\"M17.41 7.96l-1.37-1.37c-.4-.4-.92-.59-1.43-.59-.52 0-1.04.2-1.43.59L10.3 9.45l-7.72 7.72c-.78.78-.78 2.05 0 2.83L4 21.41c.39.39.9.59 1.41.59.51 0 1.02-.2 1.41-.59l7.78-7.78 2.81-2.81c.8-.78.8-2.07 0-2.86zM5.41 20L4 18.59l7.72-7.72 1.47 1.35L5.41 20z\"/>\n",
              "  </svg>\n",
              "      </button>\n",
              "      \n",
              "  <style>\n",
              "    .colab-df-container {\n",
              "      display:flex;\n",
              "      flex-wrap:wrap;\n",
              "      gap: 12px;\n",
              "    }\n",
              "\n",
              "    .colab-df-convert {\n",
              "      background-color: #E8F0FE;\n",
              "      border: none;\n",
              "      border-radius: 50%;\n",
              "      cursor: pointer;\n",
              "      display: none;\n",
              "      fill: #1967D2;\n",
              "      height: 32px;\n",
              "      padding: 0 0 0 0;\n",
              "      width: 32px;\n",
              "    }\n",
              "\n",
              "    .colab-df-convert:hover {\n",
              "      background-color: #E2EBFA;\n",
              "      box-shadow: 0px 1px 2px rgba(60, 64, 67, 0.3), 0px 1px 3px 1px rgba(60, 64, 67, 0.15);\n",
              "      fill: #174EA6;\n",
              "    }\n",
              "\n",
              "    [theme=dark] .colab-df-convert {\n",
              "      background-color: #3B4455;\n",
              "      fill: #D2E3FC;\n",
              "    }\n",
              "\n",
              "    [theme=dark] .colab-df-convert:hover {\n",
              "      background-color: #434B5C;\n",
              "      box-shadow: 0px 1px 3px 1px rgba(0, 0, 0, 0.15);\n",
              "      filter: drop-shadow(0px 1px 2px rgba(0, 0, 0, 0.3));\n",
              "      fill: #FFFFFF;\n",
              "    }\n",
              "  </style>\n",
              "\n",
              "      <script>\n",
              "        const buttonEl =\n",
              "          document.querySelector('#df-f68dafcd-8e21-41de-bdee-ebd0ac950ca9 button.colab-df-convert');\n",
              "        buttonEl.style.display =\n",
              "          google.colab.kernel.accessAllowed ? 'block' : 'none';\n",
              "\n",
              "        async function convertToInteractive(key) {\n",
              "          const element = document.querySelector('#df-f68dafcd-8e21-41de-bdee-ebd0ac950ca9');\n",
              "          const dataTable =\n",
              "            await google.colab.kernel.invokeFunction('convertToInteractive',\n",
              "                                                     [key], {});\n",
              "          if (!dataTable) return;\n",
              "\n",
              "          const docLinkHtml = 'Like what you see? Visit the ' +\n",
              "            '<a target=\"_blank\" href=https://colab.research.google.com/notebooks/data_table.ipynb>data table notebook</a>'\n",
              "            + ' to learn more about interactive tables.';\n",
              "          element.innerHTML = '';\n",
              "          dataTable['output_type'] = 'display_data';\n",
              "          await google.colab.output.renderOutput(dataTable, element);\n",
              "          const docLink = document.createElement('div');\n",
              "          docLink.innerHTML = docLinkHtml;\n",
              "          element.appendChild(docLink);\n",
              "        }\n",
              "      </script>\n",
              "    </div>\n",
              "  </div>\n",
              "  "
            ]
          },
          "metadata": {},
          "execution_count": 11
        }
      ],
      "source": [
        "scaler = preprocessing.MinMaxScaler()\n",
        "names = df.columns\n",
        "d = scaler.fit_transform(df)\n",
        "df_norm = pd.DataFrame(d, columns=names).round(2)\n",
        "df_norm.head()\n"
      ]
    },
    {
      "cell_type": "markdown",
      "source": [
        "Создадим тренеровочные выборки."
      ],
      "metadata": {
        "id": "WFzAgelhtdEh"
      },
      "id": "WFzAgelhtdEh"
    },
    {
      "cell_type": "code",
      "execution_count": 12,
      "id": "4afde593",
      "metadata": {
        "id": "4afde593"
      },
      "outputs": [],
      "source": [
        "y_traindr = df_norm.pop('Width').values\n",
        "y_traind = df_norm.pop('Depth').values\n",
        "y_train1 = df.pop('Width').values\n",
        "y_train2 = df.pop('Depth').values\n",
        "x_train = df_norm.values\n"
      ]
    },
    {
      "cell_type": "code",
      "execution_count": null,
      "id": "880c398f",
      "metadata": {
        "colab": {
          "base_uri": "https://localhost:8080/"
        },
        "id": "880c398f",
        "outputId": "076350a6-e0c9-427b-ce1a-a4ef5bf7c63e"
      },
      "outputs": [
        {
          "output_type": "execute_result",
          "data": {
            "text/plain": [
              "(72, 4)"
            ]
          },
          "metadata": {},
          "execution_count": 12
        }
      ],
      "source": [
        "x_train.shape"
      ]
    },
    {
      "cell_type": "code",
      "execution_count": null,
      "id": "dcfdef37",
      "metadata": {
        "id": "dcfdef37"
      },
      "outputs": [],
      "source": [
        "\n"
      ]
    },
    {
      "cell_type": "markdown",
      "source": [
        "## Обучим модель последовательной нейросети"
      ],
      "metadata": {
        "id": "HHOSoHmztneY"
      },
      "id": "HHOSoHmztneY"
    },
    {
      "cell_type": "code",
      "execution_count": 13,
      "id": "0e69c73f",
      "metadata": {
        "id": "0e69c73f"
      },
      "outputs": [],
      "source": [
        "from tensorflow.keras.models import Sequential\n",
        "from tensorflow.keras.layers import Dense"
      ]
    },
    {
      "cell_type": "markdown",
      "source": [
        "Было опробовано несколько вариантов с различными функциями активации и количеством нейронов в слое. Остановимся на этом. Создаем модель для предсказания первого параметра:"
      ],
      "metadata": {
        "id": "miICj7IitzQ_"
      },
      "id": "miICj7IitzQ_"
    },
    {
      "cell_type": "code",
      "execution_count": 14,
      "id": "47e1b68c",
      "metadata": {
        "id": "47e1b68c"
      },
      "outputs": [],
      "source": [
        "model = Sequential()\n",
        "model.add(Dense(64, activation='relu', input_shape=(x_train.shape[1],)))\n",
        "model.add(Dense(32, activation='relu'))\n",
        "model.add(Dense(1, activation='relu'))"
      ]
    },
    {
      "cell_type": "code",
      "execution_count": 24,
      "id": "4a9a6e41",
      "metadata": {
        "colab": {
          "base_uri": "https://localhost:8080/"
        },
        "id": "4a9a6e41",
        "outputId": "52851b48-40b2-4d76-bce9-e376915e515d"
      },
      "outputs": [
        {
          "output_type": "stream",
          "name": "stdout",
          "text": [
            "Model: \"sequential_1\"\n",
            "_________________________________________________________________\n",
            " Layer (type)                Output Shape              Param #   \n",
            "=================================================================\n",
            " dense_3 (Dense)             (None, 64)                320       \n",
            "                                                                 \n",
            " dense_4 (Dense)             (None, 32)                2080      \n",
            "                                                                 \n",
            " dense_5 (Dense)             (None, 1)                 33        \n",
            "                                                                 \n",
            "=================================================================\n",
            "Total params: 2,433\n",
            "Trainable params: 2,433\n",
            "Non-trainable params: 0\n",
            "_________________________________________________________________\n",
            "None\n"
          ]
        }
      ],
      "source": [
        "print(model.summary())"
      ]
    },
    {
      "cell_type": "code",
      "execution_count": 15,
      "id": "17ab3fff",
      "metadata": {
        "id": "17ab3fff"
      },
      "outputs": [],
      "source": [
        "model.compile(optimizer='nadam', loss='mse', metrics=['mae'])"
      ]
    },
    {
      "cell_type": "markdown",
      "source": [
        "Изменение размера батче к положительному эффекту не привело, оставил по умолчанию 32."
      ],
      "metadata": {
        "id": "mBH8tQ01uYve"
      },
      "id": "mBH8tQ01uYve"
    },
    {
      "cell_type": "code",
      "execution_count": 16,
      "id": "84c710b3",
      "metadata": {
        "colab": {
          "base_uri": "https://localhost:8080/"
        },
        "id": "84c710b3",
        "outputId": "55967686-fbd1-4556-93f7-276b73e67cbe"
      },
      "outputs": [
        {
          "output_type": "stream",
          "name": "stdout",
          "text": [
            "Epoch 1/100\n",
            "2/2 - 4s - loss: 4.0757 - mae: 1.9992 - val_loss: 3.0284 - val_mae: 1.7400 - 4s/epoch - 2s/step\n",
            "Epoch 2/100\n",
            "2/2 - 0s - loss: 4.0757 - mae: 1.9992 - val_loss: 3.0284 - val_mae: 1.7400 - 45ms/epoch - 23ms/step\n",
            "Epoch 3/100\n",
            "2/2 - 0s - loss: 4.0757 - mae: 1.9992 - val_loss: 3.0284 - val_mae: 1.7400 - 69ms/epoch - 34ms/step\n",
            "Epoch 4/100\n",
            "2/2 - 0s - loss: 4.0757 - mae: 1.9992 - val_loss: 3.0284 - val_mae: 1.7400 - 54ms/epoch - 27ms/step\n",
            "Epoch 5/100\n",
            "2/2 - 0s - loss: 4.0757 - mae: 1.9992 - val_loss: 3.0284 - val_mae: 1.7400 - 61ms/epoch - 30ms/step\n",
            "Epoch 6/100\n",
            "2/2 - 0s - loss: 4.0757 - mae: 1.9992 - val_loss: 3.0284 - val_mae: 1.7400 - 58ms/epoch - 29ms/step\n",
            "Epoch 7/100\n",
            "2/2 - 0s - loss: 4.0757 - mae: 1.9992 - val_loss: 3.0284 - val_mae: 1.7400 - 54ms/epoch - 27ms/step\n",
            "Epoch 8/100\n",
            "2/2 - 0s - loss: 4.0757 - mae: 1.9992 - val_loss: 3.0284 - val_mae: 1.7400 - 95ms/epoch - 47ms/step\n",
            "Epoch 9/100\n",
            "2/2 - 0s - loss: 4.0757 - mae: 1.9992 - val_loss: 3.0284 - val_mae: 1.7400 - 65ms/epoch - 32ms/step\n",
            "Epoch 10/100\n",
            "2/2 - 0s - loss: 4.0757 - mae: 1.9992 - val_loss: 3.0284 - val_mae: 1.7400 - 53ms/epoch - 26ms/step\n",
            "Epoch 11/100\n",
            "2/2 - 0s - loss: 4.0757 - mae: 1.9992 - val_loss: 3.0284 - val_mae: 1.7400 - 122ms/epoch - 61ms/step\n",
            "Epoch 12/100\n",
            "2/2 - 0s - loss: 4.0757 - mae: 1.9992 - val_loss: 3.0284 - val_mae: 1.7400 - 76ms/epoch - 38ms/step\n",
            "Epoch 13/100\n",
            "2/2 - 0s - loss: 4.0757 - mae: 1.9992 - val_loss: 3.0284 - val_mae: 1.7400 - 44ms/epoch - 22ms/step\n",
            "Epoch 14/100\n",
            "2/2 - 0s - loss: 4.0757 - mae: 1.9992 - val_loss: 3.0284 - val_mae: 1.7400 - 43ms/epoch - 21ms/step\n",
            "Epoch 15/100\n",
            "2/2 - 0s - loss: 4.0757 - mae: 1.9992 - val_loss: 3.0284 - val_mae: 1.7400 - 69ms/epoch - 34ms/step\n",
            "Epoch 16/100\n",
            "2/2 - 0s - loss: 4.0757 - mae: 1.9992 - val_loss: 3.0284 - val_mae: 1.7400 - 59ms/epoch - 29ms/step\n",
            "Epoch 17/100\n",
            "2/2 - 0s - loss: 4.0757 - mae: 1.9992 - val_loss: 3.0284 - val_mae: 1.7400 - 62ms/epoch - 31ms/step\n",
            "Epoch 18/100\n",
            "2/2 - 0s - loss: 4.0757 - mae: 1.9992 - val_loss: 3.0284 - val_mae: 1.7400 - 45ms/epoch - 23ms/step\n",
            "Epoch 19/100\n",
            "2/2 - 0s - loss: 4.0757 - mae: 1.9992 - val_loss: 3.0284 - val_mae: 1.7400 - 44ms/epoch - 22ms/step\n",
            "Epoch 20/100\n",
            "2/2 - 0s - loss: 4.0757 - mae: 1.9992 - val_loss: 3.0284 - val_mae: 1.7400 - 47ms/epoch - 23ms/step\n",
            "Epoch 21/100\n",
            "2/2 - 0s - loss: 4.0757 - mae: 1.9992 - val_loss: 3.0284 - val_mae: 1.7400 - 73ms/epoch - 37ms/step\n",
            "Epoch 22/100\n",
            "2/2 - 0s - loss: 4.0757 - mae: 1.9992 - val_loss: 3.0284 - val_mae: 1.7400 - 62ms/epoch - 31ms/step\n",
            "Epoch 23/100\n",
            "2/2 - 0s - loss: 4.0757 - mae: 1.9992 - val_loss: 3.0284 - val_mae: 1.7400 - 63ms/epoch - 32ms/step\n",
            "Epoch 24/100\n",
            "2/2 - 0s - loss: 4.0757 - mae: 1.9992 - val_loss: 3.0284 - val_mae: 1.7400 - 94ms/epoch - 47ms/step\n",
            "Epoch 25/100\n",
            "2/2 - 0s - loss: 4.0757 - mae: 1.9992 - val_loss: 3.0284 - val_mae: 1.7400 - 91ms/epoch - 46ms/step\n",
            "Epoch 26/100\n",
            "2/2 - 0s - loss: 4.0757 - mae: 1.9992 - val_loss: 3.0284 - val_mae: 1.7400 - 48ms/epoch - 24ms/step\n",
            "Epoch 27/100\n",
            "2/2 - 0s - loss: 4.0757 - mae: 1.9992 - val_loss: 3.0284 - val_mae: 1.7400 - 69ms/epoch - 35ms/step\n",
            "Epoch 28/100\n",
            "2/2 - 0s - loss: 4.0757 - mae: 1.9992 - val_loss: 3.0284 - val_mae: 1.7400 - 52ms/epoch - 26ms/step\n",
            "Epoch 29/100\n",
            "2/2 - 0s - loss: 4.0757 - mae: 1.9992 - val_loss: 3.0284 - val_mae: 1.7400 - 116ms/epoch - 58ms/step\n",
            "Epoch 30/100\n",
            "2/2 - 0s - loss: 4.0757 - mae: 1.9992 - val_loss: 3.0284 - val_mae: 1.7400 - 78ms/epoch - 39ms/step\n",
            "Epoch 31/100\n",
            "2/2 - 0s - loss: 4.0757 - mae: 1.9992 - val_loss: 3.0284 - val_mae: 1.7400 - 78ms/epoch - 39ms/step\n",
            "Epoch 32/100\n",
            "2/2 - 0s - loss: 4.0757 - mae: 1.9992 - val_loss: 3.0284 - val_mae: 1.7400 - 56ms/epoch - 28ms/step\n",
            "Epoch 33/100\n",
            "2/2 - 0s - loss: 4.0757 - mae: 1.9992 - val_loss: 3.0284 - val_mae: 1.7400 - 46ms/epoch - 23ms/step\n",
            "Epoch 34/100\n",
            "2/2 - 0s - loss: 4.0757 - mae: 1.9992 - val_loss: 3.0284 - val_mae: 1.7400 - 62ms/epoch - 31ms/step\n",
            "Epoch 35/100\n",
            "2/2 - 0s - loss: 4.0757 - mae: 1.9992 - val_loss: 3.0284 - val_mae: 1.7400 - 106ms/epoch - 53ms/step\n",
            "Epoch 36/100\n",
            "2/2 - 0s - loss: 4.0757 - mae: 1.9992 - val_loss: 3.0284 - val_mae: 1.7400 - 111ms/epoch - 55ms/step\n",
            "Epoch 37/100\n",
            "2/2 - 0s - loss: 4.0757 - mae: 1.9992 - val_loss: 3.0284 - val_mae: 1.7400 - 143ms/epoch - 71ms/step\n",
            "Epoch 38/100\n",
            "2/2 - 0s - loss: 4.0757 - mae: 1.9992 - val_loss: 3.0284 - val_mae: 1.7400 - 117ms/epoch - 58ms/step\n",
            "Epoch 39/100\n",
            "2/2 - 0s - loss: 4.0757 - mae: 1.9992 - val_loss: 3.0284 - val_mae: 1.7400 - 50ms/epoch - 25ms/step\n",
            "Epoch 40/100\n",
            "2/2 - 0s - loss: 4.0757 - mae: 1.9992 - val_loss: 3.0284 - val_mae: 1.7400 - 45ms/epoch - 23ms/step\n",
            "Epoch 41/100\n",
            "2/2 - 0s - loss: 4.0757 - mae: 1.9992 - val_loss: 3.0284 - val_mae: 1.7400 - 45ms/epoch - 23ms/step\n",
            "Epoch 42/100\n",
            "2/2 - 0s - loss: 4.0757 - mae: 1.9992 - val_loss: 3.0284 - val_mae: 1.7400 - 47ms/epoch - 24ms/step\n",
            "Epoch 43/100\n",
            "2/2 - 0s - loss: 4.0757 - mae: 1.9992 - val_loss: 3.0284 - val_mae: 1.7400 - 88ms/epoch - 44ms/step\n",
            "Epoch 44/100\n",
            "2/2 - 0s - loss: 4.0757 - mae: 1.9992 - val_loss: 3.0284 - val_mae: 1.7400 - 64ms/epoch - 32ms/step\n",
            "Epoch 45/100\n",
            "2/2 - 0s - loss: 4.0757 - mae: 1.9992 - val_loss: 3.0284 - val_mae: 1.7400 - 46ms/epoch - 23ms/step\n",
            "Epoch 46/100\n",
            "2/2 - 0s - loss: 4.0757 - mae: 1.9992 - val_loss: 3.0284 - val_mae: 1.7400 - 81ms/epoch - 41ms/step\n",
            "Epoch 47/100\n",
            "2/2 - 0s - loss: 4.0757 - mae: 1.9992 - val_loss: 3.0284 - val_mae: 1.7400 - 57ms/epoch - 28ms/step\n",
            "Epoch 48/100\n",
            "2/2 - 0s - loss: 4.0757 - mae: 1.9992 - val_loss: 3.0284 - val_mae: 1.7400 - 46ms/epoch - 23ms/step\n",
            "Epoch 49/100\n",
            "2/2 - 0s - loss: 4.0757 - mae: 1.9992 - val_loss: 3.0284 - val_mae: 1.7400 - 63ms/epoch - 31ms/step\n",
            "Epoch 50/100\n",
            "2/2 - 0s - loss: 4.0757 - mae: 1.9992 - val_loss: 3.0284 - val_mae: 1.7400 - 88ms/epoch - 44ms/step\n",
            "Epoch 51/100\n",
            "2/2 - 0s - loss: 4.0757 - mae: 1.9992 - val_loss: 3.0284 - val_mae: 1.7400 - 113ms/epoch - 56ms/step\n",
            "Epoch 52/100\n",
            "2/2 - 0s - loss: 4.0757 - mae: 1.9992 - val_loss: 3.0284 - val_mae: 1.7400 - 80ms/epoch - 40ms/step\n",
            "Epoch 53/100\n",
            "2/2 - 0s - loss: 4.0757 - mae: 1.9992 - val_loss: 3.0284 - val_mae: 1.7400 - 63ms/epoch - 32ms/step\n",
            "Epoch 54/100\n",
            "2/2 - 0s - loss: 4.0757 - mae: 1.9992 - val_loss: 3.0284 - val_mae: 1.7400 - 94ms/epoch - 47ms/step\n",
            "Epoch 55/100\n",
            "2/2 - 0s - loss: 4.0757 - mae: 1.9992 - val_loss: 3.0284 - val_mae: 1.7400 - 49ms/epoch - 25ms/step\n",
            "Epoch 56/100\n",
            "2/2 - 0s - loss: 4.0757 - mae: 1.9992 - val_loss: 3.0284 - val_mae: 1.7400 - 42ms/epoch - 21ms/step\n",
            "Epoch 57/100\n",
            "2/2 - 0s - loss: 4.0757 - mae: 1.9992 - val_loss: 3.0284 - val_mae: 1.7400 - 57ms/epoch - 29ms/step\n",
            "Epoch 58/100\n",
            "2/2 - 0s - loss: 4.0757 - mae: 1.9992 - val_loss: 3.0284 - val_mae: 1.7400 - 63ms/epoch - 32ms/step\n",
            "Epoch 59/100\n",
            "2/2 - 0s - loss: 4.0757 - mae: 1.9992 - val_loss: 3.0284 - val_mae: 1.7400 - 68ms/epoch - 34ms/step\n",
            "Epoch 60/100\n",
            "2/2 - 0s - loss: 4.0757 - mae: 1.9992 - val_loss: 3.0284 - val_mae: 1.7400 - 65ms/epoch - 32ms/step\n",
            "Epoch 61/100\n",
            "2/2 - 0s - loss: 4.0757 - mae: 1.9992 - val_loss: 3.0284 - val_mae: 1.7400 - 83ms/epoch - 42ms/step\n",
            "Epoch 62/100\n",
            "2/2 - 0s - loss: 4.0757 - mae: 1.9992 - val_loss: 3.0284 - val_mae: 1.7400 - 59ms/epoch - 29ms/step\n",
            "Epoch 63/100\n",
            "2/2 - 0s - loss: 4.0757 - mae: 1.9992 - val_loss: 3.0284 - val_mae: 1.7400 - 79ms/epoch - 40ms/step\n",
            "Epoch 64/100\n",
            "2/2 - 0s - loss: 4.0757 - mae: 1.9992 - val_loss: 3.0284 - val_mae: 1.7400 - 77ms/epoch - 38ms/step\n",
            "Epoch 65/100\n",
            "2/2 - 0s - loss: 4.0757 - mae: 1.9992 - val_loss: 3.0284 - val_mae: 1.7400 - 73ms/epoch - 37ms/step\n",
            "Epoch 66/100\n",
            "2/2 - 0s - loss: 4.0757 - mae: 1.9992 - val_loss: 3.0284 - val_mae: 1.7400 - 100ms/epoch - 50ms/step\n",
            "Epoch 67/100\n",
            "2/2 - 0s - loss: 4.0757 - mae: 1.9992 - val_loss: 3.0284 - val_mae: 1.7400 - 55ms/epoch - 27ms/step\n",
            "Epoch 68/100\n",
            "2/2 - 0s - loss: 4.0757 - mae: 1.9992 - val_loss: 3.0284 - val_mae: 1.7400 - 69ms/epoch - 34ms/step\n",
            "Epoch 69/100\n",
            "2/2 - 0s - loss: 4.0757 - mae: 1.9992 - val_loss: 3.0284 - val_mae: 1.7400 - 62ms/epoch - 31ms/step\n",
            "Epoch 70/100\n",
            "2/2 - 0s - loss: 4.0757 - mae: 1.9992 - val_loss: 3.0284 - val_mae: 1.7400 - 91ms/epoch - 45ms/step\n",
            "Epoch 71/100\n",
            "2/2 - 0s - loss: 4.0757 - mae: 1.9992 - val_loss: 3.0284 - val_mae: 1.7400 - 73ms/epoch - 36ms/step\n",
            "Epoch 72/100\n",
            "2/2 - 0s - loss: 4.0757 - mae: 1.9992 - val_loss: 3.0284 - val_mae: 1.7400 - 107ms/epoch - 54ms/step\n",
            "Epoch 73/100\n",
            "2/2 - 0s - loss: 4.0757 - mae: 1.9992 - val_loss: 3.0284 - val_mae: 1.7400 - 81ms/epoch - 40ms/step\n",
            "Epoch 74/100\n",
            "2/2 - 0s - loss: 4.0757 - mae: 1.9992 - val_loss: 3.0284 - val_mae: 1.7400 - 81ms/epoch - 41ms/step\n",
            "Epoch 75/100\n",
            "2/2 - 0s - loss: 4.0757 - mae: 1.9992 - val_loss: 3.0284 - val_mae: 1.7400 - 56ms/epoch - 28ms/step\n",
            "Epoch 76/100\n",
            "2/2 - 0s - loss: 4.0757 - mae: 1.9992 - val_loss: 3.0284 - val_mae: 1.7400 - 62ms/epoch - 31ms/step\n",
            "Epoch 77/100\n",
            "2/2 - 0s - loss: 4.0757 - mae: 1.9992 - val_loss: 3.0284 - val_mae: 1.7400 - 127ms/epoch - 64ms/step\n",
            "Epoch 78/100\n",
            "2/2 - 0s - loss: 4.0757 - mae: 1.9992 - val_loss: 3.0284 - val_mae: 1.7400 - 72ms/epoch - 36ms/step\n",
            "Epoch 79/100\n",
            "2/2 - 0s - loss: 4.0757 - mae: 1.9992 - val_loss: 3.0284 - val_mae: 1.7400 - 53ms/epoch - 26ms/step\n",
            "Epoch 80/100\n",
            "2/2 - 0s - loss: 4.0757 - mae: 1.9992 - val_loss: 3.0284 - val_mae: 1.7400 - 77ms/epoch - 39ms/step\n",
            "Epoch 81/100\n",
            "2/2 - 0s - loss: 4.0757 - mae: 1.9992 - val_loss: 3.0284 - val_mae: 1.7400 - 45ms/epoch - 22ms/step\n",
            "Epoch 82/100\n",
            "2/2 - 0s - loss: 4.0757 - mae: 1.9992 - val_loss: 3.0284 - val_mae: 1.7400 - 56ms/epoch - 28ms/step\n",
            "Epoch 83/100\n",
            "2/2 - 0s - loss: 4.0757 - mae: 1.9992 - val_loss: 3.0284 - val_mae: 1.7400 - 158ms/epoch - 79ms/step\n",
            "Epoch 84/100\n",
            "2/2 - 0s - loss: 4.0757 - mae: 1.9992 - val_loss: 3.0284 - val_mae: 1.7400 - 91ms/epoch - 45ms/step\n",
            "Epoch 85/100\n",
            "2/2 - 0s - loss: 4.0757 - mae: 1.9992 - val_loss: 3.0284 - val_mae: 1.7400 - 59ms/epoch - 29ms/step\n",
            "Epoch 86/100\n",
            "2/2 - 0s - loss: 4.0757 - mae: 1.9992 - val_loss: 3.0284 - val_mae: 1.7400 - 119ms/epoch - 60ms/step\n",
            "Epoch 87/100\n",
            "2/2 - 0s - loss: 4.0757 - mae: 1.9992 - val_loss: 3.0284 - val_mae: 1.7400 - 109ms/epoch - 55ms/step\n",
            "Epoch 88/100\n",
            "2/2 - 0s - loss: 4.0757 - mae: 1.9992 - val_loss: 3.0284 - val_mae: 1.7400 - 99ms/epoch - 49ms/step\n",
            "Epoch 89/100\n",
            "2/2 - 0s - loss: 4.0757 - mae: 1.9992 - val_loss: 3.0284 - val_mae: 1.7400 - 51ms/epoch - 26ms/step\n",
            "Epoch 90/100\n",
            "2/2 - 0s - loss: 4.0757 - mae: 1.9992 - val_loss: 3.0284 - val_mae: 1.7400 - 55ms/epoch - 27ms/step\n",
            "Epoch 91/100\n",
            "2/2 - 0s - loss: 4.0757 - mae: 1.9992 - val_loss: 3.0284 - val_mae: 1.7400 - 82ms/epoch - 41ms/step\n",
            "Epoch 92/100\n",
            "2/2 - 0s - loss: 4.0757 - mae: 1.9992 - val_loss: 3.0284 - val_mae: 1.7400 - 43ms/epoch - 22ms/step\n",
            "Epoch 93/100\n",
            "2/2 - 0s - loss: 4.0757 - mae: 1.9992 - val_loss: 3.0284 - val_mae: 1.7400 - 72ms/epoch - 36ms/step\n",
            "Epoch 94/100\n",
            "2/2 - 0s - loss: 4.0757 - mae: 1.9992 - val_loss: 3.0284 - val_mae: 1.7400 - 41ms/epoch - 20ms/step\n",
            "Epoch 95/100\n",
            "2/2 - 0s - loss: 4.0757 - mae: 1.9992 - val_loss: 3.0284 - val_mae: 1.7400 - 51ms/epoch - 25ms/step\n",
            "Epoch 96/100\n",
            "2/2 - 0s - loss: 4.0757 - mae: 1.9992 - val_loss: 3.0284 - val_mae: 1.7400 - 99ms/epoch - 50ms/step\n",
            "Epoch 97/100\n",
            "2/2 - 0s - loss: 4.0757 - mae: 1.9992 - val_loss: 3.0284 - val_mae: 1.7400 - 57ms/epoch - 29ms/step\n",
            "Epoch 98/100\n",
            "2/2 - 0s - loss: 4.0757 - mae: 1.9992 - val_loss: 3.0284 - val_mae: 1.7400 - 93ms/epoch - 46ms/step\n",
            "Epoch 99/100\n",
            "2/2 - 0s - loss: 4.0757 - mae: 1.9992 - val_loss: 3.0284 - val_mae: 1.7400 - 55ms/epoch - 27ms/step\n",
            "Epoch 100/100\n",
            "2/2 - 0s - loss: 4.0757 - mae: 1.9992 - val_loss: 3.0284 - val_mae: 1.7400 - 96ms/epoch - 48ms/step\n"
          ]
        }
      ],
      "source": [
        "history = model.fit(x_train, \n",
        "                    y_train1,\n",
        "                    epochs=100, \n",
        "                    validation_split=0.1, \n",
        "                    verbose=2)"
      ]
    },
    {
      "cell_type": "markdown",
      "source": [
        "Создаем модель для предсказания первого параметра:"
      ],
      "metadata": {
        "id": "r0Q46Y0huSRR"
      },
      "id": "r0Q46Y0huSRR"
    },
    {
      "cell_type": "code",
      "execution_count": 17,
      "id": "d17ff3fe",
      "metadata": {
        "id": "d17ff3fe"
      },
      "outputs": [],
      "source": [
        "model2 = Sequential()\n",
        "model2.add(Dense(64, activation='relu', input_shape=(x_train.shape[1],)))\n",
        "model2.add(Dense(32, activation='relu'))\n",
        "model2.add(Dense(1, activation='relu'))"
      ]
    },
    {
      "cell_type": "code",
      "execution_count": 18,
      "id": "48b7c805",
      "metadata": {
        "id": "48b7c805"
      },
      "outputs": [],
      "source": [
        "model2.compile(optimizer='nadam', loss='mse', metrics=['mae'])"
      ]
    },
    {
      "cell_type": "code",
      "source": [
        "print(model2.summary())"
      ],
      "metadata": {
        "id": "RheUyoLxsAvh"
      },
      "id": "RheUyoLxsAvh",
      "execution_count": null,
      "outputs": []
    },
    {
      "cell_type": "code",
      "execution_count": 19,
      "id": "d79a589a",
      "metadata": {
        "colab": {
          "base_uri": "https://localhost:8080/"
        },
        "id": "d79a589a",
        "outputId": "6d1d6150-3867-484f-f840-5b312cf4dbb4"
      },
      "outputs": [
        {
          "output_type": "stream",
          "name": "stdout",
          "text": [
            "Epoch 1/100\n",
            "2/2 - 1s - loss: 1.4669 - mae: 1.1881 - val_loss: 1.5790 - val_mae: 1.2550 - 1s/epoch - 532ms/step\n",
            "Epoch 2/100\n",
            "2/2 - 0s - loss: 1.4669 - mae: 1.1881 - val_loss: 1.5790 - val_mae: 1.2550 - 31ms/epoch - 15ms/step\n",
            "Epoch 3/100\n",
            "2/2 - 0s - loss: 1.4669 - mae: 1.1881 - val_loss: 1.5790 - val_mae: 1.2550 - 31ms/epoch - 15ms/step\n",
            "Epoch 4/100\n",
            "2/2 - 0s - loss: 1.4669 - mae: 1.1881 - val_loss: 1.5790 - val_mae: 1.2550 - 31ms/epoch - 16ms/step\n",
            "Epoch 5/100\n",
            "2/2 - 0s - loss: 1.4669 - mae: 1.1881 - val_loss: 1.5790 - val_mae: 1.2550 - 31ms/epoch - 15ms/step\n",
            "Epoch 6/100\n",
            "2/2 - 0s - loss: 1.4669 - mae: 1.1881 - val_loss: 1.5790 - val_mae: 1.2550 - 30ms/epoch - 15ms/step\n",
            "Epoch 7/100\n",
            "2/2 - 0s - loss: 1.4669 - mae: 1.1881 - val_loss: 1.5790 - val_mae: 1.2550 - 33ms/epoch - 16ms/step\n",
            "Epoch 8/100\n",
            "2/2 - 0s - loss: 1.4669 - mae: 1.1881 - val_loss: 1.5790 - val_mae: 1.2550 - 36ms/epoch - 18ms/step\n",
            "Epoch 9/100\n",
            "2/2 - 0s - loss: 1.4669 - mae: 1.1881 - val_loss: 1.5790 - val_mae: 1.2550 - 31ms/epoch - 16ms/step\n",
            "Epoch 10/100\n",
            "2/2 - 0s - loss: 1.4669 - mae: 1.1881 - val_loss: 1.5790 - val_mae: 1.2550 - 33ms/epoch - 16ms/step\n",
            "Epoch 11/100\n",
            "2/2 - 0s - loss: 1.4669 - mae: 1.1881 - val_loss: 1.5790 - val_mae: 1.2550 - 34ms/epoch - 17ms/step\n",
            "Epoch 12/100\n",
            "2/2 - 0s - loss: 1.4669 - mae: 1.1881 - val_loss: 1.5790 - val_mae: 1.2550 - 50ms/epoch - 25ms/step\n",
            "Epoch 13/100\n",
            "2/2 - 0s - loss: 1.4669 - mae: 1.1881 - val_loss: 1.5790 - val_mae: 1.2550 - 29ms/epoch - 14ms/step\n",
            "Epoch 14/100\n",
            "2/2 - 0s - loss: 1.4669 - mae: 1.1881 - val_loss: 1.5790 - val_mae: 1.2550 - 36ms/epoch - 18ms/step\n",
            "Epoch 15/100\n",
            "2/2 - 0s - loss: 1.4669 - mae: 1.1881 - val_loss: 1.5790 - val_mae: 1.2550 - 30ms/epoch - 15ms/step\n",
            "Epoch 16/100\n",
            "2/2 - 0s - loss: 1.4669 - mae: 1.1881 - val_loss: 1.5790 - val_mae: 1.2550 - 33ms/epoch - 17ms/step\n",
            "Epoch 17/100\n",
            "2/2 - 0s - loss: 1.4669 - mae: 1.1881 - val_loss: 1.5790 - val_mae: 1.2550 - 32ms/epoch - 16ms/step\n",
            "Epoch 18/100\n",
            "2/2 - 0s - loss: 1.4669 - mae: 1.1881 - val_loss: 1.5790 - val_mae: 1.2550 - 43ms/epoch - 22ms/step\n",
            "Epoch 19/100\n",
            "2/2 - 0s - loss: 1.4669 - mae: 1.1881 - val_loss: 1.5790 - val_mae: 1.2550 - 37ms/epoch - 19ms/step\n",
            "Epoch 20/100\n",
            "2/2 - 0s - loss: 1.4669 - mae: 1.1881 - val_loss: 1.5790 - val_mae: 1.2550 - 30ms/epoch - 15ms/step\n",
            "Epoch 21/100\n",
            "2/2 - 0s - loss: 1.4669 - mae: 1.1881 - val_loss: 1.5790 - val_mae: 1.2550 - 36ms/epoch - 18ms/step\n",
            "Epoch 22/100\n",
            "2/2 - 0s - loss: 1.4669 - mae: 1.1881 - val_loss: 1.5790 - val_mae: 1.2550 - 35ms/epoch - 17ms/step\n",
            "Epoch 23/100\n",
            "2/2 - 0s - loss: 1.4669 - mae: 1.1881 - val_loss: 1.5790 - val_mae: 1.2550 - 33ms/epoch - 17ms/step\n",
            "Epoch 24/100\n",
            "2/2 - 0s - loss: 1.4669 - mae: 1.1881 - val_loss: 1.5790 - val_mae: 1.2550 - 31ms/epoch - 15ms/step\n",
            "Epoch 25/100\n",
            "2/2 - 0s - loss: 1.4669 - mae: 1.1881 - val_loss: 1.5790 - val_mae: 1.2550 - 37ms/epoch - 18ms/step\n",
            "Epoch 26/100\n",
            "2/2 - 0s - loss: 1.4669 - mae: 1.1881 - val_loss: 1.5790 - val_mae: 1.2550 - 33ms/epoch - 17ms/step\n",
            "Epoch 27/100\n",
            "2/2 - 0s - loss: 1.4669 - mae: 1.1881 - val_loss: 1.5790 - val_mae: 1.2550 - 32ms/epoch - 16ms/step\n",
            "Epoch 28/100\n",
            "2/2 - 0s - loss: 1.4669 - mae: 1.1881 - val_loss: 1.5790 - val_mae: 1.2550 - 35ms/epoch - 17ms/step\n",
            "Epoch 29/100\n",
            "2/2 - 0s - loss: 1.4669 - mae: 1.1881 - val_loss: 1.5790 - val_mae: 1.2550 - 31ms/epoch - 16ms/step\n",
            "Epoch 30/100\n",
            "2/2 - 0s - loss: 1.4669 - mae: 1.1881 - val_loss: 1.5790 - val_mae: 1.2550 - 29ms/epoch - 15ms/step\n",
            "Epoch 31/100\n",
            "2/2 - 0s - loss: 1.4669 - mae: 1.1881 - val_loss: 1.5790 - val_mae: 1.2550 - 29ms/epoch - 15ms/step\n",
            "Epoch 32/100\n",
            "2/2 - 0s - loss: 1.4669 - mae: 1.1881 - val_loss: 1.5790 - val_mae: 1.2550 - 33ms/epoch - 16ms/step\n",
            "Epoch 33/100\n",
            "2/2 - 0s - loss: 1.4669 - mae: 1.1881 - val_loss: 1.5790 - val_mae: 1.2550 - 31ms/epoch - 15ms/step\n",
            "Epoch 34/100\n",
            "2/2 - 0s - loss: 1.4669 - mae: 1.1881 - val_loss: 1.5790 - val_mae: 1.2550 - 32ms/epoch - 16ms/step\n",
            "Epoch 35/100\n",
            "2/2 - 0s - loss: 1.4669 - mae: 1.1881 - val_loss: 1.5790 - val_mae: 1.2550 - 33ms/epoch - 16ms/step\n",
            "Epoch 36/100\n",
            "2/2 - 0s - loss: 1.4669 - mae: 1.1881 - val_loss: 1.5790 - val_mae: 1.2550 - 31ms/epoch - 16ms/step\n",
            "Epoch 37/100\n",
            "2/2 - 0s - loss: 1.4669 - mae: 1.1881 - val_loss: 1.5790 - val_mae: 1.2550 - 35ms/epoch - 18ms/step\n",
            "Epoch 38/100\n",
            "2/2 - 0s - loss: 1.4669 - mae: 1.1881 - val_loss: 1.5790 - val_mae: 1.2550 - 35ms/epoch - 18ms/step\n",
            "Epoch 39/100\n",
            "2/2 - 0s - loss: 1.4669 - mae: 1.1881 - val_loss: 1.5790 - val_mae: 1.2550 - 37ms/epoch - 19ms/step\n",
            "Epoch 40/100\n",
            "2/2 - 0s - loss: 1.4669 - mae: 1.1881 - val_loss: 1.5790 - val_mae: 1.2550 - 33ms/epoch - 16ms/step\n",
            "Epoch 41/100\n",
            "2/2 - 0s - loss: 1.4669 - mae: 1.1881 - val_loss: 1.5790 - val_mae: 1.2550 - 31ms/epoch - 15ms/step\n",
            "Epoch 42/100\n",
            "2/2 - 0s - loss: 1.4669 - mae: 1.1881 - val_loss: 1.5790 - val_mae: 1.2550 - 33ms/epoch - 16ms/step\n",
            "Epoch 43/100\n",
            "2/2 - 0s - loss: 1.4668 - mae: 1.1881 - val_loss: 1.5790 - val_mae: 1.2550 - 30ms/epoch - 15ms/step\n",
            "Epoch 44/100\n",
            "2/2 - 0s - loss: 1.4669 - mae: 1.1881 - val_loss: 1.5790 - val_mae: 1.2550 - 31ms/epoch - 15ms/step\n",
            "Epoch 45/100\n",
            "2/2 - 0s - loss: 1.4668 - mae: 1.1881 - val_loss: 1.5790 - val_mae: 1.2550 - 30ms/epoch - 15ms/step\n",
            "Epoch 46/100\n",
            "2/2 - 0s - loss: 1.4669 - mae: 1.1881 - val_loss: 1.5790 - val_mae: 1.2550 - 30ms/epoch - 15ms/step\n",
            "Epoch 47/100\n",
            "2/2 - 0s - loss: 1.4669 - mae: 1.1881 - val_loss: 1.5790 - val_mae: 1.2550 - 38ms/epoch - 19ms/step\n",
            "Epoch 48/100\n",
            "2/2 - 0s - loss: 1.4669 - mae: 1.1881 - val_loss: 1.5790 - val_mae: 1.2550 - 34ms/epoch - 17ms/step\n",
            "Epoch 49/100\n",
            "2/2 - 0s - loss: 1.4669 - mae: 1.1881 - val_loss: 1.5790 - val_mae: 1.2550 - 31ms/epoch - 16ms/step\n",
            "Epoch 50/100\n",
            "2/2 - 0s - loss: 1.4669 - mae: 1.1881 - val_loss: 1.5790 - val_mae: 1.2550 - 32ms/epoch - 16ms/step\n",
            "Epoch 51/100\n",
            "2/2 - 0s - loss: 1.4669 - mae: 1.1881 - val_loss: 1.5790 - val_mae: 1.2550 - 37ms/epoch - 19ms/step\n",
            "Epoch 52/100\n",
            "2/2 - 0s - loss: 1.4669 - mae: 1.1881 - val_loss: 1.5790 - val_mae: 1.2550 - 30ms/epoch - 15ms/step\n",
            "Epoch 53/100\n",
            "2/2 - 0s - loss: 1.4669 - mae: 1.1881 - val_loss: 1.5790 - val_mae: 1.2550 - 43ms/epoch - 21ms/step\n",
            "Epoch 54/100\n",
            "2/2 - 0s - loss: 1.4669 - mae: 1.1881 - val_loss: 1.5790 - val_mae: 1.2550 - 30ms/epoch - 15ms/step\n",
            "Epoch 55/100\n",
            "2/2 - 0s - loss: 1.4669 - mae: 1.1881 - val_loss: 1.5790 - val_mae: 1.2550 - 34ms/epoch - 17ms/step\n",
            "Epoch 56/100\n",
            "2/2 - 0s - loss: 1.4669 - mae: 1.1881 - val_loss: 1.5790 - val_mae: 1.2550 - 31ms/epoch - 15ms/step\n",
            "Epoch 57/100\n",
            "2/2 - 0s - loss: 1.4669 - mae: 1.1881 - val_loss: 1.5790 - val_mae: 1.2550 - 31ms/epoch - 15ms/step\n",
            "Epoch 58/100\n",
            "2/2 - 0s - loss: 1.4669 - mae: 1.1881 - val_loss: 1.5790 - val_mae: 1.2550 - 31ms/epoch - 16ms/step\n",
            "Epoch 59/100\n",
            "2/2 - 0s - loss: 1.4669 - mae: 1.1881 - val_loss: 1.5790 - val_mae: 1.2550 - 32ms/epoch - 16ms/step\n",
            "Epoch 60/100\n",
            "2/2 - 0s - loss: 1.4669 - mae: 1.1881 - val_loss: 1.5790 - val_mae: 1.2550 - 33ms/epoch - 16ms/step\n",
            "Epoch 61/100\n",
            "2/2 - 0s - loss: 1.4669 - mae: 1.1881 - val_loss: 1.5790 - val_mae: 1.2550 - 33ms/epoch - 17ms/step\n",
            "Epoch 62/100\n",
            "2/2 - 0s - loss: 1.4669 - mae: 1.1881 - val_loss: 1.5790 - val_mae: 1.2550 - 31ms/epoch - 15ms/step\n",
            "Epoch 63/100\n",
            "2/2 - 0s - loss: 1.4669 - mae: 1.1881 - val_loss: 1.5790 - val_mae: 1.2550 - 32ms/epoch - 16ms/step\n",
            "Epoch 64/100\n",
            "2/2 - 0s - loss: 1.4669 - mae: 1.1881 - val_loss: 1.5790 - val_mae: 1.2550 - 58ms/epoch - 29ms/step\n",
            "Epoch 65/100\n",
            "2/2 - 0s - loss: 1.4669 - mae: 1.1881 - val_loss: 1.5790 - val_mae: 1.2550 - 34ms/epoch - 17ms/step\n",
            "Epoch 66/100\n",
            "2/2 - 0s - loss: 1.4669 - mae: 1.1881 - val_loss: 1.5790 - val_mae: 1.2550 - 31ms/epoch - 16ms/step\n",
            "Epoch 67/100\n",
            "2/2 - 0s - loss: 1.4669 - mae: 1.1881 - val_loss: 1.5790 - val_mae: 1.2550 - 30ms/epoch - 15ms/step\n",
            "Epoch 68/100\n",
            "2/2 - 0s - loss: 1.4669 - mae: 1.1881 - val_loss: 1.5790 - val_mae: 1.2550 - 38ms/epoch - 19ms/step\n",
            "Epoch 69/100\n",
            "2/2 - 0s - loss: 1.4669 - mae: 1.1881 - val_loss: 1.5790 - val_mae: 1.2550 - 32ms/epoch - 16ms/step\n",
            "Epoch 70/100\n",
            "2/2 - 0s - loss: 1.4669 - mae: 1.1881 - val_loss: 1.5790 - val_mae: 1.2550 - 32ms/epoch - 16ms/step\n",
            "Epoch 71/100\n",
            "2/2 - 0s - loss: 1.4669 - mae: 1.1881 - val_loss: 1.5790 - val_mae: 1.2550 - 32ms/epoch - 16ms/step\n",
            "Epoch 72/100\n",
            "2/2 - 0s - loss: 1.4669 - mae: 1.1881 - val_loss: 1.5790 - val_mae: 1.2550 - 35ms/epoch - 18ms/step\n",
            "Epoch 73/100\n",
            "2/2 - 0s - loss: 1.4669 - mae: 1.1881 - val_loss: 1.5790 - val_mae: 1.2550 - 34ms/epoch - 17ms/step\n",
            "Epoch 74/100\n",
            "2/2 - 0s - loss: 1.4669 - mae: 1.1881 - val_loss: 1.5790 - val_mae: 1.2550 - 36ms/epoch - 18ms/step\n",
            "Epoch 75/100\n",
            "2/2 - 0s - loss: 1.4669 - mae: 1.1881 - val_loss: 1.5790 - val_mae: 1.2550 - 33ms/epoch - 16ms/step\n",
            "Epoch 76/100\n",
            "2/2 - 0s - loss: 1.4669 - mae: 1.1881 - val_loss: 1.5790 - val_mae: 1.2550 - 38ms/epoch - 19ms/step\n",
            "Epoch 77/100\n",
            "2/2 - 0s - loss: 1.4669 - mae: 1.1881 - val_loss: 1.5790 - val_mae: 1.2550 - 33ms/epoch - 16ms/step\n",
            "Epoch 78/100\n",
            "2/2 - 0s - loss: 1.4669 - mae: 1.1881 - val_loss: 1.5790 - val_mae: 1.2550 - 37ms/epoch - 18ms/step\n",
            "Epoch 79/100\n",
            "2/2 - 0s - loss: 1.4669 - mae: 1.1881 - val_loss: 1.5790 - val_mae: 1.2550 - 33ms/epoch - 17ms/step\n",
            "Epoch 80/100\n",
            "2/2 - 0s - loss: 1.4669 - mae: 1.1881 - val_loss: 1.5790 - val_mae: 1.2550 - 36ms/epoch - 18ms/step\n",
            "Epoch 81/100\n",
            "2/2 - 0s - loss: 1.4668 - mae: 1.1881 - val_loss: 1.5790 - val_mae: 1.2550 - 32ms/epoch - 16ms/step\n",
            "Epoch 82/100\n",
            "2/2 - 0s - loss: 1.4669 - mae: 1.1881 - val_loss: 1.5790 - val_mae: 1.2550 - 32ms/epoch - 16ms/step\n",
            "Epoch 83/100\n",
            "2/2 - 0s - loss: 1.4669 - mae: 1.1881 - val_loss: 1.5790 - val_mae: 1.2550 - 39ms/epoch - 20ms/step\n",
            "Epoch 84/100\n",
            "2/2 - 0s - loss: 1.4669 - mae: 1.1881 - val_loss: 1.5790 - val_mae: 1.2550 - 31ms/epoch - 16ms/step\n",
            "Epoch 85/100\n",
            "2/2 - 0s - loss: 1.4669 - mae: 1.1881 - val_loss: 1.5790 - val_mae: 1.2550 - 31ms/epoch - 16ms/step\n",
            "Epoch 86/100\n",
            "2/2 - 0s - loss: 1.4669 - mae: 1.1881 - val_loss: 1.5790 - val_mae: 1.2550 - 32ms/epoch - 16ms/step\n",
            "Epoch 87/100\n",
            "2/2 - 0s - loss: 1.4669 - mae: 1.1881 - val_loss: 1.5790 - val_mae: 1.2550 - 36ms/epoch - 18ms/step\n",
            "Epoch 88/100\n",
            "2/2 - 0s - loss: 1.4669 - mae: 1.1881 - val_loss: 1.5790 - val_mae: 1.2550 - 32ms/epoch - 16ms/step\n",
            "Epoch 89/100\n",
            "2/2 - 0s - loss: 1.4668 - mae: 1.1881 - val_loss: 1.5790 - val_mae: 1.2550 - 36ms/epoch - 18ms/step\n",
            "Epoch 90/100\n",
            "2/2 - 0s - loss: 1.4669 - mae: 1.1881 - val_loss: 1.5790 - val_mae: 1.2550 - 35ms/epoch - 17ms/step\n",
            "Epoch 91/100\n",
            "2/2 - 0s - loss: 1.4669 - mae: 1.1881 - val_loss: 1.5790 - val_mae: 1.2550 - 37ms/epoch - 18ms/step\n",
            "Epoch 92/100\n",
            "2/2 - 0s - loss: 1.4669 - mae: 1.1881 - val_loss: 1.5790 - val_mae: 1.2550 - 32ms/epoch - 16ms/step\n",
            "Epoch 93/100\n",
            "2/2 - 0s - loss: 1.4669 - mae: 1.1881 - val_loss: 1.5790 - val_mae: 1.2550 - 33ms/epoch - 16ms/step\n",
            "Epoch 94/100\n",
            "2/2 - 0s - loss: 1.4669 - mae: 1.1881 - val_loss: 1.5790 - val_mae: 1.2550 - 33ms/epoch - 16ms/step\n",
            "Epoch 95/100\n",
            "2/2 - 0s - loss: 1.4669 - mae: 1.1881 - val_loss: 1.5790 - val_mae: 1.2550 - 37ms/epoch - 18ms/step\n",
            "Epoch 96/100\n",
            "2/2 - 0s - loss: 1.4669 - mae: 1.1881 - val_loss: 1.5790 - val_mae: 1.2550 - 34ms/epoch - 17ms/step\n",
            "Epoch 97/100\n",
            "2/2 - 0s - loss: 1.4669 - mae: 1.1881 - val_loss: 1.5790 - val_mae: 1.2550 - 34ms/epoch - 17ms/step\n",
            "Epoch 98/100\n",
            "2/2 - 0s - loss: 1.4669 - mae: 1.1881 - val_loss: 1.5790 - val_mae: 1.2550 - 31ms/epoch - 16ms/step\n",
            "Epoch 99/100\n",
            "2/2 - 0s - loss: 1.4669 - mae: 1.1881 - val_loss: 1.5790 - val_mae: 1.2550 - 35ms/epoch - 18ms/step\n",
            "Epoch 100/100\n",
            "2/2 - 0s - loss: 1.4669 - mae: 1.1881 - val_loss: 1.5790 - val_mae: 1.2550 - 36ms/epoch - 18ms/step\n"
          ]
        }
      ],
      "source": [
        "history2 = model2.fit(x_train, \n",
        "                    y_train2,\n",
        "                    epochs=100, \n",
        "                    validation_split=0.1, \n",
        "                    verbose=2)"
      ]
    },
    {
      "cell_type": "code",
      "execution_count": 20,
      "id": "e913fd85",
      "metadata": {
        "colab": {
          "base_uri": "https://localhost:8080/",
          "height": 279
        },
        "id": "e913fd85",
        "outputId": "988f159d-ef86-4c2f-e048-6c6d4e23756e"
      },
      "outputs": [
        {
          "output_type": "display_data",
          "data": {
            "text/plain": [
              "<Figure size 432x288 with 1 Axes>"
            ],
            "image/png": "[encoded data removed]"
          },
          "metadata": {
            "needs_background": "light"
          }
        }
      ],
      "source": [
        "plt.plot(history.history['mae'], \n",
        "         label='Средняя абсолютная ошибка на обучающем наборе')\n",
        "plt.plot(history.history['val_mae'], \n",
        "         label='Средняя абсолютная ошибка на проверочном наборе')\n",
        "plt.xlabel('Эпоха обучения')\n",
        "plt.ylabel('Средняя абсолютная ошибка')\n",
        "plt.legend()\n",
        "plt.show()"
      ]
    },
    {
      "cell_type": "code",
      "execution_count": 21,
      "id": "64cb35fa",
      "metadata": {
        "colab": {
          "base_uri": "https://localhost:8080/",
          "height": 279
        },
        "id": "64cb35fa",
        "outputId": "659cf72a-c782-419d-afe0-9973c54125f1"
      },
      "outputs": [
        {
          "output_type": "display_data",
          "data": {
            "text/plain": [
              "<Figure size 432x288 with 1 Axes>"
            ],
            "image/png": "[encoded data removed]"
          },
          "metadata": {
            "needs_background": "light"
          }
        }
      ],
      "source": [
        "plt.plot(history2.history['mae'], \n",
        "         label='Средняя абсолютная ошибка на обучающем наборе')\n",
        "plt.plot(history2.history['val_mae'], \n",
        "         label='Средняя абсолютная ошибка на проверочном наборе')\n",
        "plt.xlabel('Эпоха обучения')\n",
        "plt.ylabel('Средняя абсолютная ошибка')\n",
        "plt.legend()\n",
        "plt.show()"
      ]
    },
    {
      "cell_type": "markdown",
      "source": [
        "Создадим функцию для сравнения моделей."
      ],
      "metadata": {
        "id": "__qyWhkkuoWP"
      },
      "id": "__qyWhkkuoWP"
    },
    {
      "cell_type": "code",
      "execution_count": 22,
      "id": "12fd431d",
      "metadata": {
        "id": "12fd431d"
      },
      "outputs": [],
      "source": [
        "from sklearn import metrics\n",
        "from sklearn.model_selection import cross_val_score\n",
        "\n",
        "def cross_val(model):\n",
        "    pred = cross_val_score(model, X, y, cv=10)\n",
        "    return pred.mean()\n",
        "\n",
        "def print_evaluate(true, predicted):  \n",
        "    mae = metrics.mean_absolute_error(true, predicted)\n",
        "    mse = metrics.mean_squared_error(true, predicted)\n",
        "    rmse = np.sqrt(metrics.mean_squared_error(true, predicted))\n",
        "    r2_square = metrics.r2_score(true, predicted)\n",
        "    print('MAE:', mae)\n",
        "    print('MSE:', mse)\n",
        "    print('RMSE:', rmse)\n",
        "    print('R2 Square', r2_square)\n",
        "    print('__________________________________')\n",
        "    \n",
        "def evaluate(true, predicted):\n",
        "    mae = metrics.mean_absolute_error(true, predicted)\n",
        "    mse = metrics.mean_squared_error(true, predicted)\n",
        "    rmse = np.sqrt(metrics.mean_squared_error(true, predicted))\n",
        "    r2_square = metrics.r2_score(true, predicted)\n",
        "    return mae, mse, rmse, r2_square"
      ]
    },
    {
      "cell_type": "code",
      "execution_count": 23,
      "id": "f8537883",
      "metadata": {
        "colab": {
          "base_uri": "https://localhost:8080/"
        },
        "id": "f8537883",
        "outputId": "2a183793-99be-4a2f-9a5c-5d672544407a"
      },
      "outputs": [
        {
          "output_type": "stream",
          "name": "stdout",
          "text": [
            "3/3 [==============================] - 0s 3ms/step\n",
            "3/3 [==============================] - 0s 5ms/step\n"
          ]
        }
      ],
      "source": [
        "predictions = model.predict(x_train)\n",
        "predictions2 = model2.predict(x_train)"
      ]
    },
    {
      "cell_type": "code",
      "execution_count": 25,
      "id": "7642e85e",
      "metadata": {
        "colab": {
          "base_uri": "https://localhost:8080/"
        },
        "id": "7642e85e",
        "outputId": "e8714e3e-42f4-4d22-c1a5-eab9703ab393"
      },
      "outputs": [
        {
          "output_type": "stream",
          "name": "stdout",
          "text": [
            "Test set evaluation:\n",
            "_____________________________________\n",
            "MAE: 1.9704166666666667\n",
            "MSE: 3.9593236111111114\n",
            "RMSE: 1.9898049178527808\n",
            "R2 Square -50.5659324881349\n",
            "__________________________________\n"
          ]
        }
      ],
      "source": [
        "print('Test set evaluation:\\n_____________________________________')\n",
        "print_evaluate(y_train1, predictions)"
      ]
    },
    {
      "cell_type": "code",
      "execution_count": 26,
      "id": "0a497a58",
      "metadata": {
        "colab": {
          "base_uri": "https://localhost:8080/"
        },
        "id": "0a497a58",
        "outputId": "4dce4d20-976c-4e8e-9307-54d9e5669055"
      },
      "outputs": [
        {
          "output_type": "stream",
          "name": "stdout",
          "text": [
            "Test set evaluation:\n",
            "_____________________________________\n",
            "MAE: 1.1955555555555555\n",
            "MSE: 1.479311111111111\n",
            "RMSE: 1.2162693415157315\n",
            "R2 Square -28.611080907428452\n",
            "__________________________________\n"
          ]
        }
      ],
      "source": [
        "print('Test set evaluation:\\n_____________________________________')\n",
        "print_evaluate(y_train2, predictions2)"
      ]
    },
    {
      "cell_type": "code",
      "execution_count": null,
      "id": "363b57f7",
      "metadata": {
        "id": "363b57f7"
      },
      "outputs": [],
      "source": []
    },
    {
      "cell_type": "code",
      "execution_count": 27,
      "id": "051e6047",
      "metadata": {
        "colab": {
          "base_uri": "https://localhost:8080/"
        },
        "id": "051e6047",
        "outputId": "15e0aeae-935d-4649-cbdb-17553c23bfd7"
      },
      "outputs": [
        {
          "output_type": "stream",
          "name": "stdout",
          "text": [
            "Test set evaluation:\n",
            "_____________________________________\n",
            "MAE: 0.031037737557195536\n",
            "MSE: 0.0018574366412777705\n",
            "RMSE: 0.04309798883100893\n",
            "R2 Square 0.9758088850892795\n",
            "__________________________________\n"
          ]
        }
      ],
      "source": [
        "from sklearn.ensemble import RandomForestRegressor\n",
        "\n",
        "rf_reg = RandomForestRegressor(n_estimators=1000)\n",
        "rf_reg.fit(x_train, y_train1)\n",
        "\n",
        "test_pred = rf_reg.predict(x_train)\n",
        "train_pred = rf_reg.predict(x_train)\n",
        "\n",
        "print('Test set evaluation:\\n_____________________________________')\n",
        "print_evaluate(y_train1, test_pred)\n",
        "\n",
        "\n",
        "\n"
      ]
    },
    {
      "cell_type": "code",
      "execution_count": 28,
      "id": "c4b64e02",
      "metadata": {
        "colab": {
          "base_uri": "https://localhost:8080/"
        },
        "id": "c4b64e02",
        "outputId": "5194e7f5-4197-4834-fec8-cb03f83604e5"
      },
      "outputs": [
        {
          "output_type": "stream",
          "name": "stdout",
          "text": [
            "Test set evaluation:\n",
            "_____________________________________\n",
            "MAE: 0.04302452911307789\n",
            "MSE: 0.0033637508036478297\n",
            "RMSE: 0.05799785171579918\n",
            "R2 Square 0.9326684586824805\n",
            "__________________________________\n"
          ]
        }
      ],
      "source": [
        "rf_reg1 = RandomForestRegressor(n_estimators=1000)\n",
        "rf_reg1.fit(x_train, y_train2)\n",
        "test_pred1 = rf_reg1.predict(x_train)\n",
        "train_pred1 = rf_reg1.predict(x_train)\n",
        "\n",
        "print('Test set evaluation:\\n_____________________________________')\n",
        "print_evaluate(y_train2, test_pred1)\n"
      ]
    },
    {
      "cell_type": "code",
      "execution_count": 31,
      "id": "af530706",
      "metadata": {
        "colab": {
          "base_uri": "https://localhost:8080/"
        },
        "id": "af530706",
        "outputId": "0e10143f-c8ab-4d12-c533-7bfb0c29544d"
      },
      "outputs": [
        {
          "output_type": "stream",
          "name": "stdout",
          "text": [
            "Test set evaluation:\n",
            "_____________________________________\n",
            "MAE: 0.2083259515091886\n",
            "MSE: 0.06678981101373833\n",
            "RMSE: 0.2584372477289958\n",
            "R2 Square 0.13013453207902792\n",
            "__________________________________\n"
          ]
        }
      ],
      "source": [
        "from sklearn.linear_model import Ridge\n",
        "\n",
        "model3 = Ridge(alpha=100, solver='cholesky', tol=0.001, random_state=10)\n",
        "model3.fit(x_train, y_train1)\n",
        "pred1 = model3.predict(x_train)\n",
        "\n",
        "test_pred2 = model3.predict(x_train)\n",
        "\n",
        "\n",
        "print('Test set evaluation:\\n_____________________________________')\n",
        "print_evaluate(y_train1, test_pred2)"
      ]
    },
    {
      "cell_type": "code",
      "source": [
        "from sklearn.linear_model import Ridge\n",
        "\n",
        "model4 = Ridge(alpha=100, solver='cholesky', tol=0.001, random_state=10)\n",
        "model4.fit(x_train, y_train2)\n",
        "pred1 = model4.predict(x_train)\n",
        "\n",
        "test_pred3 = model4.predict(x_train)\n",
        "\n",
        "\n",
        "print('Test set evaluation:\\n_____________________________________')\n",
        "print_evaluate(y_train2, test_pred3)"
      ],
      "metadata": {
        "colab": {
          "base_uri": "https://localhost:8080/"
        },
        "id": "cpJkm_3TkP22",
        "outputId": "db25607a-2731-4c07-8db9-788aa0445e7f"
      },
      "id": "cpJkm_3TkP22",
      "execution_count": 32,
      "outputs": [
        {
          "output_type": "stream",
          "name": "stdout",
          "text": [
            "Test set evaluation:\n",
            "_____________________________________\n",
            "MAE: 0.15595093321434972\n",
            "MSE: 0.045488738894078784\n",
            "RMSE: 0.21328089200413333\n",
            "R2 Square 0.08946081885524115\n",
            "__________________________________\n"
          ]
        }
      ]
    },
    {
      "cell_type": "markdown",
      "source": [
        "Ожидаемо случайный лес показал лучшие результаты."
      ],
      "metadata": {
        "id": "CdUdsleivaQv"
      },
      "id": "CdUdsleivaQv"
    }
  ],
  "metadata": {
    "kernelspec": {
      "display_name": "Python 3 (ipykernel)",
      "language": "python",
      "name": "python3"
    },
    "language_info": {
      "codemirror_mode": {
        "name": "ipython",
        "version": 3
      },
      "file_extension": ".py",
      "mimetype": "text/x-python",
      "name": "python",
      "nbconvert_exporter": "python",
      "pygments_lexer": "ipython3",
      "version": "3.8.13"
    },
    "colab": {
      "provenance": []
    }
  },
  "nbformat": 4,
  "nbformat_minor": 5
}